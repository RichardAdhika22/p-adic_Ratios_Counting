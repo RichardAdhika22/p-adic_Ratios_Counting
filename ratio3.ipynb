{
 "cells": [
  {
   "cell_type": "code",
   "execution_count": 77,
   "id": "1da1ebb8-f13c-4625-98c0-fabee0f33756",
   "metadata": {},
   "outputs": [],
   "source": [
    "using Oscar"
   ]
  },
  {
   "cell_type": "code",
   "execution_count": 78,
   "id": "0b06c604-e53a-4971-b8ee-b96abf3d9dc6",
   "metadata": {},
   "outputs": [
    {
     "data": {
      "text/plain": [
       "sl2size (generic function with 1 method)"
      ]
     },
     "execution_count": 78,
     "metadata": {},
     "output_type": "execute_result"
    }
   ],
   "source": [
    "# Defined the denominator\n",
    "sl2size(p, k) = p^(2*k - 2) * (p^2 - 1)"
   ]
  },
  {
   "cell_type": "code",
   "execution_count": 79,
   "id": "ce1d04b4-69fe-4049-9ed9-e13e54e4a02e",
   "metadata": {},
   "outputs": [
    {
     "data": {
      "text/plain": [
       "build_matrices (generic function with 1 method)"
      ]
     },
     "execution_count": 79,
     "metadata": {},
     "output_type": "execute_result"
    }
   ],
   "source": [
    "# this function generate all the matrices satisfying the condition of ratio 1\n",
    "# uses dictionary to store the result so that it is easier to produce the reduced form\n",
    "function build_matrices(p, n, trace, det)\n",
    "    Rn, = residue_ring(ZZ, p^n)\n",
    "    result = Dict{NTuple{3, zzModRingElem}, Int}()\n",
    "\n",
    "    for a in Rn\n",
    "        rhs = Rn(a*(trace - a) - det)\n",
    "        for b in Rn\n",
    "            if lift(b) % p != 0\n",
    "                result[(a, b, rhs/b)] = 1\n",
    "            end\n",
    "        end\n",
    "\n",
    "        if rhs != 0\n",
    "            rhs_lift = lift(rhs)\n",
    "            pval = valuation(rhs_lift, p)\n",
    "            for exp in 1:pval\n",
    "                rhs_new = Rn(rhs_lift/p^exp)\n",
    "                for j in 1:(p^(n-exp))-1\n",
    "                    if j % p != 0\n",
    "                        b = Rn(p^exp * j)\n",
    "                        c_start = lift(rhs_new/j) % p^(n-exp)\n",
    "                        for c in c_start: p^(n-exp): p^n-1\n",
    "                            result[(a, b, Rn(c))] = 1\n",
    "                        end\n",
    "                    end\n",
    "                end\n",
    "            end\n",
    "        else\n",
    "            for c in Rn\n",
    "                result[(a, Rn(0), c)] = 1\n",
    "            end\n",
    "\n",
    "            for exp in 1:n-1\n",
    "                for j in 1:p^(n-exp)-1\n",
    "                    if j % p != 0\n",
    "                        b = Rn(p^exp * j)\n",
    "                        for c in 0:p^(n-exp):p^n-1\n",
    "                            result[(a, b, Rn(c))] = 1\n",
    "                        end\n",
    "                    end\n",
    "                end\n",
    "            end\n",
    "        end\n",
    "    end\n",
    "\n",
    "    return result\n",
    "end"
   ]
  },
  {
   "cell_type": "code",
   "execution_count": 80,
   "id": "4413d9b0-821f-4d72-9faa-ad5e62ad2b8f",
   "metadata": {},
   "outputs": [
    {
     "data": {
      "text/plain": [
       "det_check (generic function with 1 method)"
      ]
     },
     "execution_count": 80,
     "metadata": {},
     "output_type": "execute_result"
    }
   ],
   "source": [
    "# given a set of vectors, try to find a matrix A with minimum vp(det(A)) by trying the linear combination of the vectors\n",
    "function det_check(p, k, ker, Rn)\n",
    "    minVal = 20\n",
    "    l = size(ker, 2)\n",
    "    ker_cols = [(Rn(ker[1, j]), Rn(ker[2, j]), Rn(ker[3, j]), Rn(ker[4, j])) for j in 1:l]\n",
    "    for i in 1:l\n",
    "        (a1, a2, a3, a4) = ker_cols[i]\n",
    "        for i1 in 0:1, i2 in 0:1, i3 in 0:1, i4 in 0:1\n",
    "            det = (a1+i1*p^k) * (a4+i4*p^k) - (a2+i2*p^k) * (a3+i3*p^k)\n",
    "            if det != 0 && valuation(lift(det), p) < minVal\n",
    "                minVal = valuation(lift(det), p)\n",
    "            end\n",
    "        end\n",
    "        for j in (i+1):l\n",
    "            b1, b2, b3, b4 = ker_cols[j]\n",
    "            det = (a1+b1)*(a4+b4) - (a2+b2)*(a3+b3)\n",
    "            if det != 0 && valuation(lift(det), p) < minVal\n",
    "                minVal = valuation(lift(det), p)\n",
    "            end\n",
    "        end\n",
    "    end\n",
    "    return minVal\n",
    "end"
   ]
  },
  {
   "cell_type": "code",
   "execution_count": 81,
   "id": "7c443517-739f-4ed2-b373-9f465af00138",
   "metadata": {},
   "outputs": [
    {
     "data": {
      "text/plain": [
       "ratio3 (generic function with 2 methods)"
      ]
     },
     "execution_count": 81,
     "metadata": {},
     "output_type": "execute_result"
    }
   ],
   "source": [
    "function ratio3(p, n, k, equations_template, matrices)\n",
    "    Rk, = residue_ring(ZZ, p^k)\n",
    "    Rn, = residue_ring(ZZ, p^n)\n",
    "    ker_hist = Dict{zzModMatrix, Int64}()\n",
    "    res = Dict{Tuple{zzModRingElem, zzModRingElem, zzModRingElem}, Int64}()\n",
    "    \n",
    "    for (M, num) in matrices\n",
    "        idx = Int(lift(M[1]))+1\n",
    "        equations = equations_template[idx]\n",
    "        equations[1,3], equations[3,4], equations[2,1], equations[4,2] = M[2], M[2], M[3], M[3] # only changes 4 entries of the 4x4 matrix\n",
    "        ker = kernel(equations, side=:right)\n",
    "        if haskey(ker_hist, ker)\n",
    "            res[M] = ker_hist[ker]\n",
    "        else\n",
    "            minVal =  det_check(p, k, map(lift, ker), Rn)\n",
    "            ker_hist[ker] = minVal\n",
    "            res[M] = minVal\n",
    "        end\n",
    "    end\n",
    "    return res\n",
    "end"
   ]
  },
  {
   "cell_type": "code",
   "execution_count": 82,
   "id": "73307492-0fec-4967-b689-9ae91a22b7d4",
   "metadata": {},
   "outputs": [
    {
     "data": {
      "text/plain": [
       "compute_ratio3 (generic function with 2 methods)"
      ]
     },
     "execution_count": 82,
     "metadata": {},
     "output_type": "execute_result"
    }
   ],
   "source": [
    "# this function computes ratio3 for k in (1, n) and e in (1, max_e)\n",
    "function compute_ratio3(p, n, baseM, max_e)\n",
    "    trace, det = baseM[1]+baseM[4], baseM[1]*baseM[4] - baseM[2]*baseM[3]\n",
    "    equations_template = Vector{Vector{MatElem}}(undef, n)\n",
    "\n",
    "    # generating templates for equations in form of 4x4 matrices\n",
    "    for k in 1:n\n",
    "        Rk, = residue_ring(ZZ, p^k)\n",
    "        templates = Vector{MatElem}(undef, p^k)\n",
    "        for a in 0:(p^k - 1)\n",
    "            templates[a + 1] = matrix(Rk, [\n",
    "                [a - baseM[1], -baseM[3], 0, 0],\n",
    "                [0, 0, (trace - a) - baseM[1], -baseM[3]],\n",
    "                [-baseM[2], a - baseM[4], 0, 0],\n",
    "                [0, 0, -baseM[2], (trace - a) - baseM[4]]\n",
    "            ])\n",
    "        end\n",
    "        equations_template[k] = templates\n",
    "    end\n",
    "\n",
    "    # generating all the matrices satisfying the condition of having the same trace and determinant\n",
    "    matrices = [Dict{NTuple{3, zzModRingElem}, Int}() for _ in 1:n]\n",
    "    matrices[n] = build_matrices(p, n, trace, det)\n",
    "    for k in (n-1):-1:1\n",
    "        Rk, = residue_ring(ZZ, p^k)\n",
    "        for (M, num) in matrices[k+1]\n",
    "            M_reduced = map(Rk, M)\n",
    "            matrices[k][M_reduced] = get(matrices[k], M_reduced, 0) + num\n",
    "        end\n",
    "    end\n",
    "    \n",
    "    ratio3_val = Dict{Int, Dict{Int, Int}}()\n",
    "    for k in 1:n\n",
    "        ratio3_val[k] = Dict{Int, Int}()\n",
    "        for e in 0:max_e\n",
    "            ratio3_val[k][e] = 0\n",
    "        end\n",
    "    end\n",
    "    \n",
    "    for k in 1:n\n",
    "        res = ratio3(p, n, k, equations_template[k], matrices[k])\n",
    "        for (M, minVal) in res\n",
    "            for e in max_e:-1:minVal\n",
    "                ratio3_val[k][e] += matrices[k][M]\n",
    "            end\n",
    "        end\n",
    "    end\n",
    "    \n",
    "    ratio3_res = [[rationalize(ratio3_val[k][e] / sl2size(p, n)) for k in 1:n] for e in 0:max_e]\n",
    "    println(\"ratio 3:\")\n",
    "    for (e, row) in enumerate(ratio3_res)\n",
    "        println(\"e = $(e - 1) → \", row)\n",
    "    end\n",
    "end"
   ]
  },
  {
   "cell_type": "code",
   "execution_count": 83,
   "id": "d5d4eefe-e26e-45cf-9576-8c52bbcf4501",
   "metadata": {},
   "outputs": [
    {
     "name": "stdout",
     "output_type": "stream",
     "text": [
      "ratio 3:\n",
      "e = 0 → Rational{Int64}[1//2, 1//6, 1//6, 1//6, 1//18, 1//54]\n",
      "e = 1 → Rational{Int64}[3//2, 1//2, 1//2, 1//2, 7//18, 7//54]\n",
      "e = 2 → Rational{Int64}[3//2, 3//2, 3//2, 3//2, 3//2, 7//6]\n",
      "e = 3 → Rational{Int64}[3//2, 3//2, 3//2, 3//2, 3//2, 25//18]\n",
      "e = 4 → Rational{Int64}[3//2, 3//2, 3//2, 3//2, 3//2, 3//2]\n",
      "e = 5 → Rational{Int64}[3//2, 3//2, 3//2, 3//2, 3//2, 3//2]\n",
      "  8.745168 seconds (29.69 M allocations: 3.115 GiB, 45.21% gc time, 1.81% compilation time)\n"
     ]
    }
   ],
   "source": [
    "@time compute_ratio3(3, 6, (1, 0, 0, 10), 5)"
   ]
  },
  {
   "cell_type": "code",
   "execution_count": 88,
   "id": "dd0dce20-9170-4a39-8053-d45e171adeae",
   "metadata": {},
   "outputs": [
    {
     "data": {
      "text/plain": [
       "build_matrices_ratio3 (generic function with 1 method)"
      ]
     },
     "execution_count": 88,
     "metadata": {},
     "output_type": "execute_result"
    }
   ],
   "source": [
    "# this series of functions works more efficiently if we want to count ratio3 for specific k < n\n",
    "function add_to_dict1(p, n, k, i, rhs_new, matrices_dict, a, exp, Rk)\n",
    "    for j in 1:(p^exp-1)\n",
    "        if j % p != 0\n",
    "            b = p^i * j\n",
    "            c_start = lift(Rk(rhs_new) / j) % p^(n - i)\n",
    "            for c in c_start:p^exp:p^k-1\n",
    "                matrices_dict[(Rk(a), Rk(b), Rk(c))] = get(matrices_dict, (Rk(a), Rk(b), Rk(c)), 0) + p^(n-k)\n",
    "            end\n",
    "        end\n",
    "    end\n",
    "end\n",
    "\n",
    "function add_to_dict2(p, n, k, pval, matrices_dict, a, b, val1, val2, Rk)\n",
    "    if n-pval >= k\n",
    "        matrices_dict[(Rk(a), Rk(b), zero(Rk))] = get(matrices_dict, (Rk(a), Rk(b), zero(Rk)), 0) + val1\n",
    "    else\n",
    "        for c in 0:p^(n - pval):p^k - 1\n",
    "            matrices_dict[(Rk(a), Rk(b), Rk(c))] = get(matrices_dict, (Rk(a), Rk(b), Rk(c)), 0) + val2\n",
    "        end\n",
    "    end\n",
    "end\n",
    "\n",
    "function build_matrices_ratio3(p, n, trace, det, k)\n",
    "    matrices_dict = Dict{NTuple{3, Any}, Int}()\n",
    "    Rk, = residue_ring(ZZ, p^k)\n",
    "    Rn, = residue_ring(ZZ, p^n)\n",
    "\n",
    "    for a in 0:p^k-1\n",
    "        rhs = Rn(a*(trace-a) - det)\n",
    "        for b in 1:(p^k - 1)\n",
    "            if b % p != 0\n",
    "                c = Rk(rhs / b)\n",
    "                matrices_dict[(Rk(a), Rk(b), c)] = get(matrices_dict, (Rk(a), Rk(b), c), 0) + p^(2*(n-k))\n",
    "            end\n",
    "        end\n",
    "    end\n",
    "\n",
    "    for a in Rn\n",
    "        rhs = a*(trace-a) - det\n",
    "        if rhs != 0\n",
    "            pval = valuation(lift(rhs), p)\n",
    "            for i in 1:pval\n",
    "                if n-i >= k\n",
    "                    add_to_dict1(p, n, k, i, rhs / p^i, matrices_dict, a, k, Rk)\n",
    "                else\n",
    "                    add_to_dict1(p, n, k, i, rhs / p^i, matrices_dict, a, n-i, Rk)\n",
    "                end\n",
    "            end\n",
    "        else \n",
    "            for c in 0:(p^k - 1)\n",
    "                matrices_dict[(Rk(a), zero(Rk), Rk(c))] = get(matrices_dict, (Rk(a), zero(Rk), Rk(c)), 0) + p^(n-k)\n",
    "            end\n",
    "            for b in p:p:(p^k - 1)\n",
    "                pval = valuation(b, p)\n",
    "                add_to_dict2(p, n, k, pval, matrices_dict, a, b, p^(pval + n - k), p^(2*(n-k)), Rk)\n",
    "            end\n",
    "            for pval in k:(n - 1)\n",
    "                add_to_dict2(p, n, k, pval, matrices_dict, a, 0, p^pval * (p^(n-pval) - p^(n-pval-1)), p^(n-k) * (p^(n-pval) - p^(n-pval-1)), Rk)\n",
    "            end\n",
    "        end\n",
    "    end\n",
    "    return matrices_dict\n",
    "end"
   ]
  },
  {
   "cell_type": "code",
   "execution_count": 87,
   "id": "018ebce7-365c-4ae2-bf08-19d1a1f3f312",
   "metadata": {},
   "outputs": [
    {
     "name": "stdout",
     "output_type": "stream",
     "text": [
      "ratio 3:\n",
      "e = 0 → 1//6\n",
      "e = 1 → 7//6\n",
      "e = 2 → 3//2\n",
      "e = 3 → 3//2\n",
      "e = 4 → 3//2\n",
      "e = 5 → 3//2\n",
      "e = 6 → 3//2\n",
      "  0.845925 seconds (4.32 M allocations: 352.439 MiB, 33.36% gc time)\n"
     ]
    }
   ],
   "source": [
    "# compute ratio3 for specific k and n\n",
    "function compute_ratio3_singleK(p, n, k, baseM, max_e)\n",
    "    trace, det = baseM[1]+baseM[4], baseM[1]*baseM[4] - baseM[2]*baseM[3]\n",
    "    \n",
    "    equations_template = Vector{MatElem}()\n",
    "    Rk, = residue_ring(ZZ, p^k)\n",
    "    for a in 0:(p^k-1)\n",
    "        d = baseM[1]+baseM[4] - a\n",
    "        equations = matrix(Rk, [\n",
    "            [a - baseM[1], -baseM[3], 0, 0],\n",
    "            [0, 0, d - baseM[1], -baseM[3]],\n",
    "            [-baseM[2], a - baseM[4], 0, 0],\n",
    "            [0, 0, -baseM[2], d - baseM[4]]\n",
    "        ])\n",
    "        push!(equations_template, equations)\n",
    "    end\n",
    "\n",
    "    matrices = build_matrices_ratio3(p, n, trace, det, k)\n",
    "    res = ratio3(p, n, k, equations_template, matrices)\n",
    "    ratio3_val = Dict{Int, Int}()\n",
    "    for e in 0:max_e\n",
    "        ratio3_val[e] = 0\n",
    "    end\n",
    "    for (M, minVal) in res\n",
    "        for e in max_e:-1:minVal\n",
    "            ratio3_val[e] += matrices[M]\n",
    "        end\n",
    "    end\n",
    "        \n",
    "    ratio3_res = [rationalize(ratio3_val[e] / sl2size(p, n)) for e in 0:max_e]\n",
    "    println(\"ratio 3:\")\n",
    "    for (e, row) in enumerate(ratio3_res)\n",
    "        println(\"e = $(e - 1) → \", row)\n",
    "    end\n",
    "end\n",
    "\n",
    "@time compute_ratio3_singleK(3, 5, 5, (1, 0, 0, 4), 6)"
   ]
  },
  {
   "cell_type": "code",
   "execution_count": null,
   "id": "830f0ad8-e0b4-485c-827a-dd68ef01fd6b",
   "metadata": {},
   "outputs": [],
   "source": []
  },
  {
   "cell_type": "code",
   "execution_count": null,
   "id": "d642b292-bc30-4854-8392-1ff2cf349b0d",
   "metadata": {},
   "outputs": [],
   "source": []
  }
 ],
 "metadata": {
  "kernelspec": {
   "display_name": "Julia 1.11.6",
   "language": "julia",
   "name": "julia-1.11"
  },
  "language_info": {
   "file_extension": ".jl",
   "mimetype": "application/julia",
   "name": "julia",
   "version": "1.11.6"
  }
 },
 "nbformat": 4,
 "nbformat_minor": 5
}
