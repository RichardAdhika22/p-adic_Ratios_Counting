{
 "cells": [
  {
   "cell_type": "code",
   "execution_count": 1,
   "id": "c3f17e73-d2ba-4d0e-841c-bb10adb38cd0",
   "metadata": {},
   "outputs": [
    {
     "name": "stdout",
     "output_type": "stream",
     "text": [
      "  ___   ___   ___    _    ____\n",
      " / _ \\ / __\\ / __\\  / \\  |  _ \\  | Combining and extending ANTIC, GAP,\n",
      "| |_| |\\__ \\| |__  / ^ \\ |  ´ /  | Polymake and Singular\n",
      " \\___/ \\___/ \\___//_/ \\_\\|_|\\_\\  | Type \"?Oscar\" for more information\n",
      "\u001b[33mo--------o-----o-----o--------o\u001b[39m  | Documentation: https://docs.oscar-system.org\n",
      "  S Y M B O L I C   T O O L S    | Version 1.4.1\n"
     ]
    }
   ],
   "source": [
    "using Oscar"
   ]
  },
  {
   "cell_type": "code",
   "execution_count": 2,
   "id": "5eeba7d1-113d-40d4-8d4d-6428ed19425c",
   "metadata": {},
   "outputs": [
    {
     "data": {
      "text/plain": [
       "sl2size (generic function with 1 method)"
      ]
     },
     "execution_count": 2,
     "metadata": {},
     "output_type": "execute_result"
    }
   ],
   "source": [
    "# Defined the denominator\n",
    "sl2size(p, k) = p^(2*k - 2) * (p^2 - 1)"
   ]
  },
  {
   "cell_type": "code",
   "execution_count": 15,
   "id": "d50eb12f-801e-451e-9ff9-37fa9f50d242",
   "metadata": {},
   "outputs": [
    {
     "data": {
      "text/plain": [
       "adder (generic function with 1 method)"
      ]
     },
     "execution_count": 15,
     "metadata": {},
     "output_type": "execute_result"
    }
   ],
   "source": [
    "function adder(p, n, kbig, lift_dict, a, b, c_start, exp, Rn, Rkbig)\n",
    "    key = (Rn(a), Rn(b), Rn(c_start))\n",
    "    if haskey(lift_dict, key)\n",
    "        lifted_b = lift_dict[key][2]\n",
    "        if iszero(lifted_b) || valuation(lift(lifted_b), p) == exp\n",
    "            return false\n",
    "        end\n",
    "    end\n",
    "\n",
    "    lift_dict[key] = (Rkbig(a), Rkbig(b), Rkbig(c_start))\n",
    "    for c in (c_start + p^(kbig-exp)) : p^(kbig-exp) : (p^n-1)\n",
    "        lift_dict[(Rn(a), Rn(b), Rn(c))] = (Rkbig(a), Rkbig(b), Rkbig(c))\n",
    "    end\n",
    "    return true\n",
    "end"
   ]
  },
  {
   "cell_type": "code",
   "execution_count": 38,
   "id": "c2c3282c-86b2-437d-97bc-86842dacfb31",
   "metadata": {},
   "outputs": [
    {
     "data": {
      "text/plain": [
       "build_matrices_ratio2 (generic function with 1 method)"
      ]
     },
     "execution_count": 38,
     "metadata": {},
     "output_type": "execute_result"
    }
   ],
   "source": [
    "# this function build matrices satisfying the condition of ratio2, while keeping track of the lifted form\n",
    "function build_matrices_ratio2(p, kbig, n, trace, det)\n",
    "    Rn, = residue_ring(ZZ, p^n)\n",
    "    Rkbig, = residue_ring(ZZ, p^kbig)\n",
    "    lift_dict = Dict{Tuple{zzModRingElem, zzModRingElem, zzModRingElem}, Tuple{zzModRingElem, zzModRingElem, zzModRingElem}}()\n",
    "\n",
    "    for a in 0:p^n-1\n",
    "        for b in 1:p^n-1\n",
    "            if b % p != 0\n",
    "                c = Rkbig(a*(trace - a) - det) / Rkbig(b)\n",
    "                lift_dict[(Rn(a), Rn(b), Rn(c))] = (Rkbig(a), Rkbig(b), Rkbig(c))\n",
    "            end\n",
    "        end\n",
    "    end\n",
    "    \n",
    "    for exp in 1:(n-1)\n",
    "        for a in 0:(p^kbig - 1)\n",
    "            rhs = Rkbig(a * (trace - a) - det)\n",
    "            if !iszero(rhs)\n",
    "                pval = valuation(lift(rhs), p)\n",
    "                if pval >= exp\n",
    "                    rhs_reduced = Rkbig(lift(rhs) / p^exp)\n",
    "                    for j in 1:p^(kbig - exp) \n",
    "                        if j % p != 0\n",
    "                            c_start = mod(lift(rhs_reduced / j), p^(kbig-exp))\n",
    "                            if !adder(p, n, kbig, lift_dict, a, p^exp * j, c_start, exp, Rn, Rkbig)\n",
    "                                break\n",
    "                            end\n",
    "                        end\n",
    "                    end\n",
    "                end\n",
    "            else\n",
    "                for ind in 1:p^(kbig-exp)\n",
    "                    if ind % p != 0 && !adder(p, n, kbig, lift_dict, a, 0, 0, exp, Rn, Rkbig)\n",
    "                        break\n",
    "                    end\n",
    "                end\n",
    "            end\n",
    "        end\n",
    "    end\n",
    "\n",
    "    for a in 0:(p^kbig - 1)\n",
    "        rhs = Rkbig(a * (trace - a) - det)\n",
    "        if !iszero(rhs)\n",
    "            pval = valuation(lift(rhs), p)\n",
    "            for exp in n:pval\n",
    "                rhs_reduced = Rkbig(lift(rhs) / p^exp)\n",
    "                for j in 1:p^(kbig - exp)\n",
    "                    if j % p != 0\n",
    "                        c_start = mod(lift(rhs_reduced / j), p^(kbig-exp))\n",
    "                        if !adder(p, n, kbig, lift_dict, a, p^exp*j, c_start, exp, Rn, Rkbig)\n",
    "                            break\n",
    "                        end\n",
    "                    end\n",
    "                end\n",
    "            end\n",
    "        else\n",
    "            adder(p, n, kbig, lift_dict, a, 0, 0, kbig, Rn, Rkbig)\n",
    "        end\n",
    "    end\n",
    "    return values(lift_dict) # return only the lifted matrices (in p^kbig)\n",
    "end"
   ]
  },
  {
   "cell_type": "code",
   "execution_count": 39,
   "id": "eea6cd1e-a495-4ffb-b5d8-f214521e3952",
   "metadata": {},
   "outputs": [
    {
     "name": "stdout",
     "output_type": "stream",
     "text": [
      "  0.367052 seconds (1.77 M allocations: 59.315 MiB, 52.99% gc time)\n",
      "59292\n"
     ]
    }
   ],
   "source": [
    "@time res = build_matrices_ratio2(3, 10, 5, 11, 10)\n",
    "println(length(res))"
   ]
  },
  {
   "cell_type": "code",
   "execution_count": 40,
   "id": "a7970443-669a-4d22-9755-f8bbfe40dfa0",
   "metadata": {},
   "outputs": [
    {
     "data": {
      "text/plain": [
       "det_check (generic function with 1 method)"
      ]
     },
     "execution_count": 40,
     "metadata": {},
     "output_type": "execute_result"
    }
   ],
   "source": [
    "# given a set of vectors, try to find a matrix A with minimum vp(det(A)) by trying the linear combination of the vectors\n",
    "function det_check(p, ker, Rkbig)\n",
    "    minVal = 100 # just an upper bound, any large number smaller than vp(discriminant) works\n",
    "    l = size(ker, 2)\n",
    "    ker_cols = [(Rkbig(ker[1, j]), Rkbig(ker[2, j]), Rkbig(ker[3, j]), Rkbig(ker[4, j])) for j in 1:l]\n",
    "    for i in 1:l\n",
    "        (a1, a2, a3, a4) = ker_cols[i]\n",
    "        det = a1*a4 - a2*a3\n",
    "        if det != 0 && valuation(lift(det), p) < minVal\n",
    "            minVal = valuation(lift(det), p)\n",
    "        end\n",
    "        for j in (i+1):l\n",
    "            b1, b2, b3, b4 = ker_cols[j]\n",
    "            det = (a1+b1)*(a4+b4) - (a2+b2)*(a3+b3)\n",
    "            if det != 0 && valuation(lift(det), p) < minVal\n",
    "                minVal = valuation(lift(det), p)\n",
    "            end\n",
    "        end\n",
    "    end\n",
    "    return minVal\n",
    "end"
   ]
  },
  {
   "cell_type": "code",
   "execution_count": 41,
   "id": "9a726e9f-5793-4846-994b-26b0a0454450",
   "metadata": {},
   "outputs": [
    {
     "data": {
      "text/plain": [
       "ratio4 (generic function with 1 method)"
      ]
     },
     "execution_count": 41,
     "metadata": {},
     "output_type": "execute_result"
    }
   ],
   "source": [
    "function ratio4(p, kbig, equations_template, matrices, max_e)\n",
    "    Rkbig, = residue_ring(ZZ, p^kbig)\n",
    "    count = Vector{Int}(undef, max_e+1)\n",
    "    for i in 1:max_e+1\n",
    "        count[i] = 0\n",
    "    end\n",
    "\n",
    "    for M in matrices\n",
    "        equations = equations_template[M[1]]\n",
    "        equations[1,3], equations[3,4], equations[2,1], equations[4,2] = M[2], M[2], M[3], M[3]\n",
    "        ker = kernel(equations, side=:right)\n",
    "        res = det_check(p, map(lift, ker), Rkbig)\n",
    "        for e in max_e:-1:res\n",
    "            count[e+1] += 1\n",
    "        end\n",
    "    end\n",
    "    return count\n",
    "end"
   ]
  },
  {
   "cell_type": "code",
   "execution_count": 42,
   "id": "5d5f6712-0273-4b4e-9161-0ead05c408a6",
   "metadata": {},
   "outputs": [
    {
     "data": {
      "text/plain": [
       "compute_ratio4 (generic function with 1 method)"
      ]
     },
     "execution_count": 42,
     "metadata": {},
     "output_type": "execute_result"
    }
   ],
   "source": [
    "function compute_ratio4(p, n, baseM, kbig_low, kbig_high, max_e)\n",
    "    trace = baseM[1]+baseM[4]\n",
    "    determinant = baseM[1]*baseM[4] - baseM[2]*baseM[3]\n",
    "    ratio4_val = Dict{Int, Vector{Int64}}()\n",
    "    \n",
    "    for kbig in kbig_low:kbig_high\n",
    "        matrices = build_matrices_ratio2(p, kbig, n, trace, determinant)\n",
    "\n",
    "        Rkbig, = residue_ring(ZZ, p^kbig)\n",
    "        templates = Dict{zzModRingElem, zzModMatrix}()\n",
    "        for M in matrices\n",
    "            a = M[1]\n",
    "            if !haskey(templates, a)\n",
    "                templates[a] = matrix(Rkbig, [\n",
    "                    [a - baseM[1], -baseM[3], 0, 0],\n",
    "                    [0, 0, trace - a - baseM[1], -baseM[3]],\n",
    "                    [-baseM[2], a - baseM[4], 0, 0],\n",
    "                    [0, 0, -baseM[2], trace - a - baseM[4]]\n",
    "                ])\n",
    "            end\n",
    "        end\n",
    "        \n",
    "        ratio4_val[kbig] = ratio4(p, kbig, templates, matrices, max_e)\n",
    "    end\n",
    "    \n",
    "    ratio4_res = [[rationalize(ratio4_val[kbig][e] / sl2size(p, n)) for kbig in kbig_low:kbig_high] for e in 1:max_e+1]\n",
    "    println(\"ratio 3:\")\n",
    "    for (e, row) in enumerate(ratio4_res)\n",
    "        println(\"e = $(e-1) → \", row)\n",
    "    end\n",
    "end"
   ]
  },
  {
   "cell_type": "code",
   "execution_count": 43,
   "id": "0e5f56f7-6bc4-4849-8ed5-d4ad37998e2a",
   "metadata": {},
   "outputs": [
    {
     "name": "stdout",
     "output_type": "stream",
     "text": [
      "ratio 3:\n",
      "e = 0 → Rational{Int64}[1]\n",
      "e = 1 → Rational{Int64}[10//9]\n",
      "e = 2 → Rational{Int64}[121//108]\n",
      "e = 3 → Rational{Int64}[121//108]\n",
      "e = 4 → Rational{Int64}[121//108]\n",
      "e = 5 → Rational{Int64}[121//108]\n",
      "e = 6 → Rational{Int64}[121//108]\n",
      "e = 7 → Rational{Int64}[121//108]\n",
      "e = 8 → Rational{Int64}[121//108]\n",
      "  8.860007 seconds (41.81 M allocations: 2.403 GiB, 57.00% gc time)\n"
     ]
    }
   ],
   "source": [
    "@time compute_ratio4(3, 6, (1, 1, -81, 1), 11, 11, 8)"
   ]
  },
  {
   "cell_type": "code",
   "execution_count": null,
   "id": "d5220f5e-8040-44fd-8fc3-49631ffbe692",
   "metadata": {},
   "outputs": [],
   "source": []
  }
 ],
 "metadata": {
  "kernelspec": {
   "display_name": "Julia 1.11.6",
   "language": "julia",
   "name": "julia-1.11"
  },
  "language_info": {
   "file_extension": ".jl",
   "mimetype": "application/julia",
   "name": "julia",
   "version": "1.11.6"
  }
 },
 "nbformat": 4,
 "nbformat_minor": 5
}
