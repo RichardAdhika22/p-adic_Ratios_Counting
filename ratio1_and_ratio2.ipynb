{
 "cells": [
  {
   "cell_type": "code",
   "execution_count": 3,
   "id": "68cd2117-9e95-4957-9420-82b187609f2f",
   "metadata": {},
   "outputs": [
    {
     "name": "stdout",
     "output_type": "stream",
     "text": [
      "  ___   ___   ___    _    ____\n",
      " / _ \\ / __\\ / __\\  / \\  |  _ \\  | Combining and extending ANTIC, GAP,\n",
      "| |_| |\\__ \\| |__  / ^ \\ |  ´ /  | Polymake and Singular\n",
      " \\___/ \\___/ \\___//_/ \\_\\|_|\\_\\  | Type \"?Oscar\" for more information\n",
      "\u001b[33mo--------o-----o-----o--------o\u001b[39m  | Documentation: https://docs.oscar-system.org\n",
      "  S Y M B O L I C   T O O L S    | Version 1.4.1\n"
     ]
    }
   ],
   "source": [
    "using Oscar"
   ]
  },
  {
   "cell_type": "code",
   "execution_count": 4,
   "id": "df538c49-e833-4820-9b51-0ef8a90266d1",
   "metadata": {},
   "outputs": [
    {
     "data": {
      "text/plain": [
       "sl2size (generic function with 1 method)"
      ]
     },
     "execution_count": 4,
     "metadata": {},
     "output_type": "execute_result"
    }
   ],
   "source": [
    "# defines the denominator\n",
    "sl2size(p, k) = p^(2*k - 2) * (p^2 - 1)"
   ]
  },
  {
   "cell_type": "code",
   "execution_count": 19,
   "id": "a24d207f-0e88-4cc9-98ba-2873e0e14766",
   "metadata": {},
   "outputs": [
    {
     "data": {
      "text/plain": [
       "ratio1 (generic function with 1 method)"
      ]
     },
     "execution_count": 19,
     "metadata": {},
     "output_type": "execute_result"
    }
   ],
   "source": [
    "# Assume all matrices are of the form (a b c d)\n",
    "function ratio1(p, n, trace, det)\n",
    "    count = p^(2*n-1) * (p-1) # number of matrices such that p does not divides b\n",
    "    for a in 0:(p^n-1)\n",
    "        rhs = a*(trace - a) - det\n",
    "        if rhs % p^n != 0      \n",
    "            count += valuation(rhs, p) * p^(n-1)*(p-1) # number of pairs (b,c) that satisfies bc = ad - det mod p^n\n",
    "        else\n",
    "            count += p^n # number of matrices with b = 0\n",
    "            count += (n-1)*(p^n - p^(n-1)) # b > 0\n",
    "        end\n",
    "    end\n",
    "    return count\n",
    "end"
   ]
  },
  {
   "cell_type": "code",
   "execution_count": 28,
   "id": "5b86a3b4-2a35-4377-8531-28cb297fe400",
   "metadata": {},
   "outputs": [
    {
     "data": {
      "text/plain": [
       "build_matrices1 (generic function with 1 method)"
      ]
     },
     "execution_count": 28,
     "metadata": {},
     "output_type": "execute_result"
    }
   ],
   "source": [
    "# this function generate all matrices satisfying ratio1\n",
    "function build_matrices1(p, n, trace, det)\n",
    "    Rn, = residue_ring(ZZ, p^n)\n",
    "    result = Vector{NTuple{4, zzModRingElem}}()\n",
    "\n",
    "    for a in Rn\n",
    "        d = trace - a\n",
    "        rhs = Rn(a*d - det)\n",
    "\n",
    "        # matrices with gcd(b, p) = 1\n",
    "        for b in Rn\n",
    "            if lift(b) % p != 0\n",
    "                push!(result, (a, b, rhs/b, d))\n",
    "            end\n",
    "        end\n",
    "\n",
    "        # matrices with vp(b) >= 1\n",
    "        if rhs != 0\n",
    "            rhs_lift = lift(rhs) # convert rhs to integer\n",
    "            pval = valuation(rhs_lift, p)\n",
    "            for exp in 1:pval\n",
    "                rhs_reduced = Rn(rhs_lift / p^exp)\n",
    "                for j in 1:(p^(n-exp))-1\n",
    "                    if j % p != 0\n",
    "                        b = Rn(p^exp * j)\n",
    "                        c_start = lift(rhs_reduced / j) % p^(n-exp)\n",
    "                        for c in c_start: p^(n-exp): p^n-1\n",
    "                            push!(result, (a, b, Rn(c), d))\n",
    "                        end\n",
    "                    end\n",
    "                end\n",
    "            end\n",
    "        else\n",
    "            for c in Rn\n",
    "                push!(result, (a, Rn(0), c, d))\n",
    "            end\n",
    "\n",
    "            for exp in 1:n-1\n",
    "                for j in 1:(p^(n-exp) - 1)\n",
    "                    if j % p != 0\n",
    "                        b = Rn(p^exp * j)\n",
    "                        for c in 0:p^(n-exp):p^n-1\n",
    "                            push!(result, (a, b, Rn(c), d))\n",
    "                        end\n",
    "                    end\n",
    "                end\n",
    "            end\n",
    "        end\n",
    "    end\n",
    "\n",
    "    return result\n",
    "end"
   ]
  },
  {
   "cell_type": "code",
   "execution_count": 29,
   "id": "ec666261-c54e-4d53-9a36-f8fae8cf9e41",
   "metadata": {},
   "outputs": [
    {
     "name": "stdout",
     "output_type": "stream",
     "text": [
      "78732\n",
      "  0.000267 seconds (735 allocations: 11.586 KiB)\n",
      "78732\n",
      "  0.224469 seconds (328.83 k allocations: 19.644 MiB, 66.46% gc time)\n"
     ]
    }
   ],
   "source": [
    "@time println(ratio1(3, 5, 5, 4))\n",
    "@time println(length(build_matrices1(3, 5, 5, 4)))"
   ]
  },
  {
   "cell_type": "code",
   "execution_count": 35,
   "id": "a8defd79-5b0f-4d70-97a4-f433c674e841",
   "metadata": {},
   "outputs": [
    {
     "data": {
      "text/plain": [
       "ratio2_adder_with_check (generic function with 2 methods)"
      ]
     },
     "execution_count": 35,
     "metadata": {},
     "output_type": "execute_result"
    }
   ],
   "source": [
    "function ratio2_adder(p, n, kbig, projset, rhs_new, a, ind, exp, Rn)\n",
    "    c_start = lift(rhs_new / ind) % p^(kbig-exp)\n",
    "    if (Rn(a), Rn(c_start)) in projset\n",
    "        return false\n",
    "    end\n",
    "\n",
    "    push!(projset, (Rn(a), Rn(c_start)))\n",
    "    for c in (c_start + p^(kbig-exp)):p^(kbig-exp):(p^n-1)\n",
    "        push!(projset, (Rn(a), Rn(c)))\n",
    "    end\n",
    "    return true\n",
    "end\n",
    "\n",
    "function ratio2_adder_with_check(p, n, kbig, projset, lift_dict, rhs_new, a, ind, exp, Rn, Rkbig)\n",
    "    c_start = mod(lift(rhs_new / ind), p^(kbig-exp))\n",
    "    key = (Rn(a), Rn(c_start))\n",
    "    if key in projset\n",
    "        lifted = lift_dict[key]\n",
    "        if iszero(lifted[2]) || valuation(lift(lifted[2]), p) == exp\n",
    "            return false\n",
    "        end\n",
    "    end\n",
    "\n",
    "    push!(projset, key)\n",
    "    lift_dict[key] = (Rkbig(a), Rkbig(p^exp * ind), Rkbig(c_start))\n",
    "    for c in (c_start + p^(kbig-exp)) : p^(kbig-exp) : (p^n-1)\n",
    "        lift_dict[(Rn(a), Rn(c))] = (Rkbig(a), Rkbig(p^exp * ind), Rkbig(c))\n",
    "        push!(projset, (Rn(a), Rn(c)))\n",
    "    end\n",
    "    return true\n",
    "end"
   ]
  },
  {
   "cell_type": "code",
   "execution_count": 38,
   "id": "669d48fd-2f58-47a6-a489-d47cf600b9a0",
   "metadata": {},
   "outputs": [
    {
     "data": {
      "text/plain": [
       "ratio2 (generic function with 1 method)"
      ]
     },
     "execution_count": 38,
     "metadata": {},
     "output_type": "execute_result"
    }
   ],
   "source": [
    "function ratio2(p, kbig, n, trace, det)\n",
    "    if n >= kbig\n",
    "        println(\"Must project from big ring to small ring\")\n",
    "        return nothing\n",
    "    end\n",
    "\n",
    "    count = p^(2*n - 1) * (p-1) # number of matrices such that p does not divides b (is not affected by the projection)\n",
    "    Rn, = residue_ring(ZZ, p^n)\n",
    "    Rkbig, = residue_ring(ZZ, p^kbig)\n",
    "\n",
    "    for exp in 1:(n-1)\n",
    "        # no need to keep track of b since it is fixed to b=p^exp mod p^n, of d as well, since it just follows from a\n",
    "        projset = Set{Tuple{zzModRingElem, zzModRingElem}}() \n",
    "        for a in 0:(p^kbig - 1)\n",
    "            d = Rkbig(trace - a)\n",
    "            rhs = Rkbig(a * d - det)\n",
    "\n",
    "            if !iszero(rhs)\n",
    "                pval = valuation(lift(rhs), p)\n",
    "                if pval >= exp\n",
    "                    rhs_reduced = Rkbig(lift(rhs) / p^exp)\n",
    "                    for ind in 1: p^(n-exp): p^(kbig - exp) \n",
    "                        if !ratio2_adder(p, n, kbig, projset, rhs_reduced, a, ind, exp, Rn)\n",
    "                            break\n",
    "                        end\n",
    "                    end\n",
    "                end\n",
    "            else\n",
    "                ratio2_adder(p, n, kbig, projset, Rkbig(0), a, 1, exp, Rn)\n",
    "            end\n",
    "        end\n",
    "        count += length(projset) * (p^(n-exp) - p^(n-exp-1)) # all b with vp(b) = exp also have the same count\n",
    "    end\n",
    "\n",
    "    # below is for the case when b = 0 mod p^n\n",
    "    projset = Set{Tuple{zzModRingElem, zzModRingElem}}()\n",
    "    \n",
    "    # lift_dict is a dictionary to keep track of all matrices with their corresponding lift \n",
    "    # (so that the some simplifications explained in the pdf file can be applied)\n",
    "    lift_dict = Dict{Tuple{zzModRingElem, zzModRingElem}, Tuple{zzModRingElem, zzModRingElem, zzModRingElem}}() \n",
    "    for a in 0:(p^kbig - 1)\n",
    "        d = Rkbig(trace - a)\n",
    "        rhs = Rkbig(a*d - det)\n",
    "\n",
    "        if !iszero(rhs)\n",
    "            pval = valuation(lift(rhs), p)\n",
    "            for exp in n:pval\n",
    "                rhs_reduced = Rkbig(lift(rhs) / p^exp)\n",
    "                for j in 1:p^(kbig - exp)\n",
    "                    if j % p != 0 && !ratio2_adder_with_check(p, n, kbig, projset, lift_dict, rhs_reduced, a, j, exp, Rn, Rkbig)\n",
    "                        break\n",
    "                    end\n",
    "                end\n",
    "            end\n",
    "        else\n",
    "            ratio2_adder_with_check(p, n, kbig, projset, lift_dict, Rkbig(0), a, 1, kbig, Rn, Rkbig)\n",
    "        end\n",
    "    end\n",
    "    return count + length(projset)\n",
    "end"
   ]
  },
  {
   "cell_type": "code",
   "execution_count": 39,
   "id": "e931f6d2-3933-467a-b15e-a70d3716a3bb",
   "metadata": {},
   "outputs": [
    {
     "name": "stdout",
     "output_type": "stream",
     "text": [
      "551124\n",
      "  8.402528 seconds (41.55 M allocations: 638.714 MiB, 43.56% gc time)\n"
     ]
    }
   ],
   "source": [
    "@time println(ratio2(3, 13, 6, 5, 4))"
   ]
  },
  {
   "cell_type": "code",
   "execution_count": 11,
   "id": "75856865-3efe-4829-919b-25a91ac5d59e",
   "metadata": {},
   "outputs": [
    {
     "data": {
      "text/plain": [
       "compute_ratio1_ratio2 (generic function with 1 method)"
      ]
     },
     "execution_count": 11,
     "metadata": {},
     "output_type": "execute_result"
    }
   ],
   "source": [
    "function compute_ratio1_ratio2(p, n, trace, det)\n",
    "    # Ratio 1\n",
    "    num1 = ratio1(p, n, trace, det)\n",
    "    ratio1_val = num1 // sl2size(p, n)\n",
    "    println(\"ratio 1: \", ratio1_val)\n",
    "    \n",
    "    # Ratio 2\n",
    "    kbig_bound = 12\n",
    "    num2 = Dict{Int, Int}()\n",
    "    for kbig in (n+1):kbig_bound\n",
    "        num2[kbig - n] = ratio2(p, kbig, n, trace, det)\n",
    "    end\n",
    "    ratio2_res = [num2[k] // sl2size(p, n) for k in 1:(kbig_bound - n)]\n",
    "    println(\"ratio 2: \", ratio2_res)\n",
    "end"
   ]
  },
  {
   "cell_type": "code",
   "execution_count": 12,
   "id": "36e3b468-834d-47aa-820e-956a84bd813c",
   "metadata": {},
   "outputs": [
    {
     "name": "stdout",
     "output_type": "stream",
     "text": [
      "ratio 1: 3//2\n",
      "ratio 2: Rational{Int64}[7//6, 7//6, 7//6, 7//6, 7//6, 7//6, 7//6]\n",
      "  5.273321 seconds (18.74 M allocations: 304.186 MiB, 37.92% gc time, 12.92% compilation time)\n"
     ]
    }
   ],
   "source": [
    "@time compute_ratio1_ratio2(3, 5, 5, 4)"
   ]
  },
  {
   "cell_type": "code",
   "execution_count": null,
   "id": "8661e52e-b675-4fd9-8cfd-af5ee95016cf",
   "metadata": {},
   "outputs": [],
   "source": []
  }
 ],
 "metadata": {
  "kernelspec": {
   "display_name": "Julia 1.11.6",
   "language": "julia",
   "name": "julia-1.11"
  },
  "language_info": {
   "file_extension": ".jl",
   "mimetype": "application/julia",
   "name": "julia",
   "version": "1.11.6"
  }
 },
 "nbformat": 4,
 "nbformat_minor": 5
}
